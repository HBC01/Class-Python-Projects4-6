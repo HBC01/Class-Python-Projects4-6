{
  "nbformat": 4,
  "nbformat_minor": 0,
  "metadata": {
    "colab": {
      "provenance": [],
      "authorship_tag": "ABX9TyOx9hTA6hUQ5BH0VbCNV22X",
      "include_colab_link": true
    },
    "kernelspec": {
      "name": "python3",
      "display_name": "Python 3"
    },
    "language_info": {
      "name": "python"
    }
  },
  "cells": [
    {
      "cell_type": "markdown",
      "metadata": {
        "id": "view-in-github",
        "colab_type": "text"
      },
      "source": [
        "<a href=\"https://colab.research.google.com/github/HBC01/00_intro_python/blob/main/04_how_old_are_they.ipynb\" target=\"_parent\"><img src=\"https://colab.research.google.com/assets/colab-badge.svg\" alt=\"Open In Colab\"/></a>"
      ]
    },
    {
      "cell_type": "markdown",
      "source": [
        "#Problem Statement\n",
        "Write a program to solve this age-related riddle!\n",
        "\n",
        "Anton, Beth, Chen, Drew, and Ethan are all friends. Their ages are as follows:\n",
        "\n",
        "Anton is 21 years old.\n",
        "\n",
        "Beth is 6 years older than Anton.\n",
        "\n",
        "Chen is 20 years older than Beth.\n",
        "\n",
        "Drew is as old as Chen's age plus Anton's age.\n",
        "\n",
        "Ethan is the same age as Chen.\n",
        "\n",
        "Your code should store each person's age to a variable and print their names and ages at the end. The autograder is sensitive to capitalization and punctuation, be careful! Your solution should look like this (the below numbers are made up -- your solution should have the correct values!):"
      ],
      "metadata": {
        "id": "Yt-2NpaTIPvx"
      }
    },
    {
      "cell_type": "code",
      "execution_count": null,
      "metadata": {
        "id": "giUAqurcFIu-",
        "colab": {
          "base_uri": "https://localhost:8080/"
        },
        "outputId": "58d77f2a-9213-49fd-9c96-c95ca5da8c14"
      },
      "outputs": [
        {
          "output_type": "stream",
          "name": "stdout",
          "text": [
            "This program about ages\n",
            "Anton age is : 10\n",
            "Beth age is : 16\n",
            "Chen age is : 36\n",
            "Drew age is : 46\n",
            "Ethan age is equal to Chen: 36\n"
          ]
        }
      ],
      "source": [
        "\n",
        "print(\"This program about ages\")\n",
        "def main():\n",
        "\n",
        "  Anton: int = 10\n",
        "  Beth: int= 6 + Anton\n",
        "  Chen: int = Beth + 20\n",
        "  Drew: int = Chen + Anton\n",
        "  Ethan: int = Chen\n",
        "\n",
        "\n",
        "  print(\"Anton age is : \"+ str(Anton))\n",
        "  print(\"Beth age is : \"+ str(Beth))\n",
        "  print(\"Chen age is : \"+ str(Chen))\n",
        "  print(\"Drew age is : \"+ str(Drew))\n",
        "  print(\"Ethan age is equal to Chen: \"+ str(Ethan))\n",
        "\n",
        "\n",
        "if __name__ == '__main__':\n",
        "    main()"
      ]
    }
  ]
}