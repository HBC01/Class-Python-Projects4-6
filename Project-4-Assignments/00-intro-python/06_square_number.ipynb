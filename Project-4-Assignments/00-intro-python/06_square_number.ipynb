{
  "nbformat": 4,
  "nbformat_minor": 0,
  "metadata": {
    "colab": {
      "provenance": [],
      "authorship_tag": "ABX9TyMuHXDtLkoZW9PUQyL6kp+p",
      "include_colab_link": true
    },
    "kernelspec": {
      "name": "python3",
      "display_name": "Python 3"
    },
    "language_info": {
      "name": "python"
    }
  },
  "cells": [
    {
      "cell_type": "markdown",
      "metadata": {
        "id": "view-in-github",
        "colab_type": "text"
      },
      "source": [
        "<a href=\"https://colab.research.google.com/github/HBC01/00_intro_python/blob/main/06_square_number.ipynb\" target=\"_parent\"><img src=\"https://colab.research.google.com/assets/colab-badge.svg\" alt=\"Open In Colab\"/></a>"
      ]
    },
    {
      "cell_type": "markdown",
      "source": [
        "#Problem Statement\n",
        "Ask the user for a number and print its square (the product of the number times itself).\n",
        "\n",
        "Here's a sample run of the program (user input is in bold italics):\n",
        "\n",
        "Type a number to see its square: 4\n",
        "\n",
        "4.0 squared is 16.0"
      ],
      "metadata": {
        "id": "MSYx9rw-hHr7"
      }
    },
    {
      "cell_type": "code",
      "execution_count": null,
      "metadata": {
        "colab": {
          "base_uri": "https://localhost:8080/"
        },
        "id": "gsxSm4AEhA2C",
        "outputId": "40db7958-363c-467d-ad5c-72a5c49dba7c"
      },
      "outputs": [
        {
          "output_type": "stream",
          "name": "stdout",
          "text": [
            "this program makes square of the number\n",
            "Type a number to see its square: 6\n",
            "6.0 squared is 36.0,\n",
            "   Squaring way: 36.0,\n",
            "   By Calling Square function: 36.0\n",
            "write Number to Square: 9\n",
            "9.0 Squared Result: 81.0\n"
          ]
        }
      ],
      "source": [
        "print(\"this program makes square of the number\")\n",
        "\n",
        "def square(num: float)->float:\n",
        "    return num * num\n",
        "\n",
        "\n",
        "\n",
        "def main():\n",
        "    Num =float( input(\"Type a number to see its square: \"))\n",
        "    squ_num= Num * Num\n",
        "    s_num = Num ** 2\n",
        "    sq_num = square(Num)\n",
        "    print(f\"\"\"{Num} squared is {squ_num},\n",
        "   Squaring way: {s_num},\n",
        "   By Calling Square function: {sq_num}\"\"\")\n",
        "if __name__ == '__main__':\n",
        "     main()\n",
        "\n",
        "\n",
        "def main():\n",
        "    number:float = float(input (\"write Number to Square: \"))\n",
        "\n",
        "\n",
        "    print(str(number) + \" Squared Result: \" + str(number ** 2))\n",
        "main()"
      ]
    }
  ]
}