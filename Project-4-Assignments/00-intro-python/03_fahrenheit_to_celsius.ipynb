{
  "nbformat": 4,
  "nbformat_minor": 0,
  "metadata": {
    "colab": {
      "provenance": [],
      "authorship_tag": "ABX9TyNmyDNsnRu6oR9TJc5HkECM",
      "include_colab_link": true
    },
    "kernelspec": {
      "name": "python3",
      "display_name": "Python 3"
    },
    "language_info": {
      "name": "python"
    }
  },
  "cells": [
    {
      "cell_type": "markdown",
      "metadata": {
        "id": "view-in-github",
        "colab_type": "text"
      },
      "source": [
        "<a href=\"https://colab.research.google.com/github/HBC01/00_intro_python/blob/main/03_fahrenheit_to_celsius.ipynb\" target=\"_parent\"><img src=\"https://colab.research.google.com/assets/colab-badge.svg\" alt=\"Open In Colab\"/></a>"
      ]
    },
    {
      "cell_type": "markdown",
      "source": [
        "#Problem Statement\n",
        "Write a program which prompts the user for a temperature in Fahrenheit (this can be a number with decimal places!) and outputs the temperature converted to Celsius.\n",
        "\n",
        "The Celsius scale is widely used to measure temperature, but places still use Fahrenheit. Fahrenheit is another unit for temperature, but the scale is different from Celsius -- for example, 0 degrees Celsius is 32 degrees Fahrenheit!\n",
        "\n",
        "The equation you should use for converting from Fahrenheit to Celsius is the following:\n",
        "\n",
        "degrees_celsius = (degrees_fahrenheit - 32) * 5.0/9.0\n",
        "\n",
        "(Note. The .0 after the 5 and 9 matters in the line above!!!)\n",
        "\n",
        "Here's a sample run of the program (user input is in bold italics):\n",
        "\n",
        "Enter temperature in Fahrenheit: 76\n",
        "\n",
        "Temperature: 76.0F = 24.444444444444443C"
      ],
      "metadata": {
        "id": "M_T-tzIwMpU0"
      }
    },
    {
      "cell_type": "code",
      "execution_count": null,
      "metadata": {
        "colab": {
          "base_uri": "https://localhost:8080/"
        },
        "id": "-hn8Iz6OMV4D",
        "outputId": "19570340-2f7d-4990-e24b-58826a468235"
      },
      "outputs": [
        {
          "output_type": "stream",
          "name": "stdout",
          "text": [
            "This program coverts Fahrenheit to Celsius\n",
            "Enter Temperature in Fahrenheit:  212\n",
            "\n",
            "Temperature 212F =\n",
            "\n",
            "100.0C\n"
          ]
        }
      ],
      "source": [
        "print(\"This program coverts Fahrenheit to Celsius\")\n",
        "\n",
        "\n",
        "def main():\n",
        " f_num = int(input(\"Enter Temperature in Fahrenheit:  \"))\n",
        " celsius =(f_num-32)*5.0/9.0\n",
        " print(f\"\"\"\n",
        "Temperature {f_num}F =\n",
        "\n",
        "{celsius}C\"\"\")\n",
        "\n",
        "if __name__ == '__main__':\n",
        "   main()"
      ]
    }
  ]
}