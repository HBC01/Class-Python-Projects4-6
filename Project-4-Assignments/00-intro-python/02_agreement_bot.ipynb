{
  "nbformat": 4,
  "nbformat_minor": 0,
  "metadata": {
    "colab": {
      "provenance": [],
      "authorship_tag": "ABX9TyPGicAVHuMsu0n7Um0UA6r8",
      "include_colab_link": true
    },
    "kernelspec": {
      "name": "python3",
      "display_name": "Python 3"
    },
    "language_info": {
      "name": "python"
    }
  },
  "cells": [
    {
      "cell_type": "markdown",
      "metadata": {
        "id": "view-in-github",
        "colab_type": "text"
      },
      "source": [
        "<a href=\"https://colab.research.google.com/github/HBC01/00_intro_python/blob/main/02_agreement_bot.ipynb\" target=\"_parent\"><img src=\"https://colab.research.google.com/assets/colab-badge.svg\" alt=\"Open In Colab\"/></a>"
      ]
    },
    {
      "cell_type": "markdown",
      "source": [
        "#Problem Statement\n",
        "Write a program which asks the user what their favorite animal is, and then always responds with \"My favorite animal is also ___!\" (the blank should be filled in with the user-inputted animal, of course).\n",
        "\n",
        "Here's a sample run of the program (user input is in bold italics - note the space between the prompt and the user input!):\n",
        "\n",
        "What's your favorite animal? cow\n",
        "\n",
        "My favorite animal is also cow!"
      ],
      "metadata": {
        "id": "Qd1l65dHHnF4"
      }
    },
    {
      "cell_type": "code",
      "execution_count": null,
      "metadata": {
        "colab": {
          "base_uri": "https://localhost:8080/"
        },
        "id": "0pMsIX5GHfuG",
        "outputId": "168396fa-bf86-4797-ad70-abf0c53e502b"
      },
      "outputs": [
        {
          "output_type": "stream",
          "name": "stdout",
          "text": [
            "What's your favorite animal?Asj\n",
            "My favorite animal is also Asj!\n"
          ]
        }
      ],
      "source": [
        "ask = input(\"What's your favorite animal?\")\n",
        "print(f\"My favorite animal is also {ask}!\")"
      ]
    },
    {
      "cell_type": "code",
      "source": [
        "def main():\n",
        " ask=input(\"What's your favorite animal?\").strip()\n",
        "\n",
        " print(\"My favorite animal is also \"+ ask +\"!\")\n",
        "if __name__ == '__main__':\n",
        "     main()"
      ],
      "metadata": {
        "colab": {
          "base_uri": "https://localhost:8080/"
        },
        "id": "6LSaEHilI8NI",
        "outputId": "fb67d49e-f673-4dcd-c40c-7f5a315c6777"
      },
      "execution_count": null,
      "outputs": [
        {
          "output_type": "stream",
          "name": "stdout",
          "text": [
            "What's your favorite animal?Aj\n",
            "My favorite animal is also Aj!\n"
          ]
        }
      ]
    }
  ]
}