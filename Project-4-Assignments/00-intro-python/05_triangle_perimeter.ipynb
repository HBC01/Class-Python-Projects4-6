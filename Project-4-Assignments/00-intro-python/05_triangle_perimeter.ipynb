{
  "nbformat": 4,
  "nbformat_minor": 0,
  "metadata": {
    "colab": {
      "provenance": [],
      "authorship_tag": "ABX9TyMR5LO6/UCiAfz/BnkBdnY8",
      "include_colab_link": true
    },
    "kernelspec": {
      "name": "python3",
      "display_name": "Python 3"
    },
    "language_info": {
      "name": "python"
    }
  },
  "cells": [
    {
      "cell_type": "markdown",
      "metadata": {
        "id": "view-in-github",
        "colab_type": "text"
      },
      "source": [
        "<a href=\"https://colab.research.google.com/github/HBC01/00_intro_python/blob/main/05_triangle_perimeter.ipynb\" target=\"_parent\"><img src=\"https://colab.research.google.com/assets/colab-badge.svg\" alt=\"Open In Colab\"/></a>"
      ]
    },
    {
      "cell_type": "markdown",
      "source": [
        "#Problem Statement\n",
        "Prompt the user to enter the lengths of each side of a triangle and then calculate and print the perimeter of the triangle (the sum of all of the side lengths).\n",
        "\n",
        "Here's a sample run of the program (user input is in bold italics):\n",
        "\n",
        "What is the length of side 1? 3\n",
        "\n",
        "What is the length of side 2? 4\n",
        "\n",
        "What is the length of side 3? 5.5\n",
        "\n",
        "The perimeter of the triangle is 12.5"
      ],
      "metadata": {
        "id": "9B-JfUsvsM74"
      }
    },
    {
      "cell_type": "code",
      "execution_count": null,
      "metadata": {
        "colab": {
          "base_uri": "https://localhost:8080/"
        },
        "id": "5XIC6IJOsBgv",
        "outputId": "dd13fcaf-3640-4e9d-812e-258a0544df58"
      },
      "outputs": [
        {
          "output_type": "stream",
          "name": "stdout",
          "text": [
            "This program calculates the perimeter of Triangle\n",
            "What is the length of side 1? : 3\n",
            "What is the length of side 2? : 4\n",
            "What is the length of side 3? : 5.5\n",
            "The Perimeter of Triangle is == 12.5\n"
          ]
        }
      ],
      "source": [
        "print (\"This program calculates the perimeter of Triangle\")\n",
        "def main():\n",
        "   side1 = float(input(\"What is the length of side 1? : \"))\n",
        "   side2 = float(input(\"What is the length of side 2? : \"))\n",
        "   side3 = float(input(\"What is the length of side 3? : \"))\n",
        "   add_sides = side1 + side2 +side3\n",
        "   print (\"The Perimeter of Triangle is == \" + str(add_sides) )\n",
        "\n",
        "\n",
        "\n",
        "if __name__ =='__main__':\n",
        " main()"
      ]
    }
  ]
}