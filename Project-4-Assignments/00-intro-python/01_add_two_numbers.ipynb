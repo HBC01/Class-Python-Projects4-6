{
  "nbformat": 4,
  "nbformat_minor": 0,
  "metadata": {
    "colab": {
      "provenance": [],
      "authorship_tag": "ABX9TyPG/YQbLQXbAY4V8gYaS4cy",
      "include_colab_link": true
    },
    "kernelspec": {
      "name": "python3",
      "display_name": "Python 3"
    },
    "language_info": {
      "name": "python"
    }
  },
  "cells": [
    {
      "cell_type": "markdown",
      "metadata": {
        "id": "view-in-github",
        "colab_type": "text"
      },
      "source": [
        "<a href=\"https://colab.research.google.com/github/HBC01/00_intro_python/blob/main/01_add_two_numbers.ipynb\" target=\"_parent\"><img src=\"https://colab.research.google.com/assets/colab-badge.svg\" alt=\"Open In Colab\"/></a>"
      ]
    },
    {
      "cell_type": "markdown",
      "source": [
        "#Problem Statement\n",
        "Write a Python program that takes two integer inputs from the user and calculates their sum. The program should perform the following tasks:\n",
        "\n",
        "1.   Prompt the user to enter the first number.\n",
        "\n",
        "2. Read the input and convert it to an integer.\n",
        "\n",
        "3. Prompt the user to enter the second number.\n",
        "\n",
        "4. Read the input and convert it to an integer.\n",
        "\n",
        "5. Calculate the sum of the two numbers.\n",
        "\n",
        "6. Print the total sum with an appropriate message.\n",
        "\n",
        "The provided solution demonstrates a working implementation of this problem, where the main() function guides the user through the process of entering two numbers and displays their sum."
      ],
      "metadata": {
        "id": "hNzmZ2CHyaO4"
      }
    },
    {
      "cell_type": "code",
      "execution_count": null,
      "metadata": {
        "colab": {
          "base_uri": "https://localhost:8080/"
        },
        "id": "3deZmpXhySNj",
        "outputId": "5ce9cc2b-6cd8-4cec-f8c3-b1c58528217a"
      },
      "outputs": [
        {
          "output_type": "stream",
          "name": "stdout",
          "text": [
            "Here we are adding two numbers\n",
            "Enter the first Number: 2772\n",
            "Enter Second Number: 7272\n",
            "Total: 10044\n",
            "Sum: 10044\n",
            "10044\n"
          ]
        }
      ],
      "source": [
        "def main():\n",
        " print(\"Here we are adding two numbers\")\n",
        " num =input(\"Enter the first Number: \")\n",
        " num1 =int(num)\n",
        " num2 =int(input(\"Enter Second Number: \"))\n",
        "\n",
        "\n",
        " print(f\"Total: {num1+num2}\")\n",
        " print (\"Sum: \"+ str(num1 +num2))\n",
        " return num1 + num2\n",
        "\n",
        "print(main())"
      ]
    },
    {
      "cell_type": "code",
      "source": [
        "def main():\n",
        "    print(\"This program adds two numbers.\")\n",
        "    num1 : str = input(\"Enter first number: \")\n",
        "    num1 : int = int(num1)\n",
        "    num2  : str = input(\"Enter second number: \")\n",
        "    num2 : int = int(num2)\n",
        "    total : int = num1 + num2\n",
        "    print(\"The total is \" + str(total) + \".\")\n",
        "\n",
        "\n",
        "if __name__ == '__main__':\n",
        "    main()"
      ],
      "metadata": {
        "colab": {
          "base_uri": "https://localhost:8080/"
        },
        "id": "3ve9cZ8L09Ey",
        "outputId": "3c933bbf-55aa-48b5-b566-5b2ef7193dcf"
      },
      "execution_count": null,
      "outputs": [
        {
          "output_type": "stream",
          "name": "stdout",
          "text": [
            "This program adds two numbers.\n",
            "Enter first number: 6\n",
            "Enter second number: 7\n",
            "The total is 13.\n"
          ]
        }
      ]
    }
  ]
}