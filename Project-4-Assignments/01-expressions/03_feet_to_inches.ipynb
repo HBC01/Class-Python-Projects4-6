{
  "nbformat": 4,
  "nbformat_minor": 0,
  "metadata": {
    "colab": {
      "provenance": [],
      "authorship_tag": "ABX9TyNs19Dus9CT+HFs0iX9HPuT",
      "include_colab_link": true
    },
    "kernelspec": {
      "name": "python3",
      "display_name": "Python 3"
    },
    "language_info": {
      "name": "python"
    }
  },
  "cells": [
    {
      "cell_type": "markdown",
      "metadata": {
        "id": "view-in-github",
        "colab_type": "text"
      },
      "source": [
        "<a href=\"https://colab.research.google.com/github/HBC01/01_expressions/blob/main/03_feet_to_inches.ipynb\" target=\"_parent\"><img src=\"https://colab.research.google.com/assets/colab-badge.svg\" alt=\"Open In Colab\"/></a>"
      ]
    },
    {
      "cell_type": "markdown",
      "source": [
        "#Problem Statement\n",
        "Converts feet to inches. Feet is an American unit of measurement. There are 12 inches per foot. Foot is the singular, and feet is the plural."
      ],
      "metadata": {
        "id": "SHhNQT3ATiUQ"
      }
    },
    {
      "cell_type": "code",
      "execution_count": null,
      "metadata": {
        "colab": {
          "base_uri": "https://localhost:8080/"
        },
        "id": "qBg2bhFhTZvo",
        "outputId": "8042ab20-198a-44fc-d036-2b563d60b15f"
      },
      "outputs": [
        {
          "output_type": "stream",
          "name": "stdout",
          "text": [
            "This program converts Feet to inches\n",
            "converting Feet to inches\n",
            "Enter Feet in numbers: 30\n",
            "30.0 feet = 360.0 inches\n"
          ]
        }
      ],
      "source": [
        "print(\"This program converts Feet to inches\")\n",
        "inch = 12\n",
        "def main():\n",
        "    print(\"converting Feet to inches\")\n",
        "    foot = float(input (\"Enter Feet in numbers: \"))\n",
        "    inches = foot*inch\n",
        "    print(str(foot) + \" feet = \"+str(inches)+ \" inches\")\n",
        "main()"
      ]
    }
  ]
}