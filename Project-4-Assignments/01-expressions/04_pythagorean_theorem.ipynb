{
  "nbformat": 4,
  "nbformat_minor": 0,
  "metadata": {
    "colab": {
      "provenance": [],
      "authorship_tag": "ABX9TyNcfLR3XHjOjzA2wMdO5Spf",
      "include_colab_link": true
    },
    "kernelspec": {
      "name": "python3",
      "display_name": "Python 3"
    },
    "language_info": {
      "name": "python"
    }
  },
  "cells": [
    {
      "cell_type": "markdown",
      "metadata": {
        "id": "view-in-github",
        "colab_type": "text"
      },
      "source": [
        "<a href=\"https://colab.research.google.com/github/HBC01/01_expressions/blob/main/04_pythagorean_theorem.ipynb\" target=\"_parent\"><img src=\"https://colab.research.google.com/assets/colab-badge.svg\" alt=\"Open In Colab\"/></a>"
      ]
    },
    {
      "cell_type": "markdown",
      "source": [
        "#Problem Statement\n",
        "Write a program that asks the user for the lengths of the two perpendicular sides of a right triangle and outputs the length of the third side (the hypotenuse) using the Pythagorean theorem!\n",
        "\n",
        "The Pythagorean theorem, named after the ancient Greek thinker, Pythagoras, is a fundamental relation in geometry. It states that in a right triangle, the square of the hypotenuse is equal to the sum of the square of the other two sides.\n",
        "\n",
        "For instance, let's consider a right triangle ABC, with the right angle located at C. According to the Pythagorean theorem:\n",
        "\n",
        "BC ** 2 = AB ** 2 + AC ** 2\n",
        "\n",
        "Your code should read in the lengths of the sides AB and AC, and that outputs the length of the hypotenuse (BC). You will probably find math.sqrt() to be useful.\n",
        "\n",
        "Here's a sample run of the program (user input is in bold italics):\n",
        "\n",
        "Enter the length of AB: 3\n",
        "\n",
        "Enter the length of AC: 4\n",
        "\n",
        "The length of BC (the hypotenuse) is: 5.0"
      ],
      "metadata": {
        "id": "1Yacub37YIbP"
      }
    },
    {
      "cell_type": "code",
      "execution_count": null,
      "metadata": {
        "id": "sE2v3602YDkH",
        "colab": {
          "base_uri": "https://localhost:8080/"
        },
        "outputId": "7b994d30-0968-4075-85a7-3e393cd31677"
      },
      "outputs": [
        {
          "output_type": "stream",
          "name": "stdout",
          "text": [
            "To find Hypotenuse By Usig\n",
            "Pythagorean theorem!\n",
            "Measurement of side A & B in cm : 12\n",
            "Measurement of side A & C in cm : 12\n",
            "According Pythagorean theorem,\n",
            "Hypotenuse (Side BC) = root (Side AB)^2 + (Side AC)^2\n",
            "Given Data:\n",
            "           Side AB = 12.0 cm,\n",
            "           Side AC = 12.0 cm,\n",
            "           So,\n",
            "           Hypotenuse (BC) = 16.97056274847714 cm\n"
          ]
        }
      ],
      "source": [
        "import math\n",
        "def main ():\n",
        "    print(\"\"\"To find Hypotenuse By Usig\n",
        "Pythagorean theorem!\"\"\")\n",
        "    AB = float(input(\"Measurement of side A & B in cm : \"))\n",
        "    AC = float(input(\"Measurement of side A & C in cm : \"))\n",
        "    BC = math.sqrt(AB**2 + AC**2)\n",
        "    print(f\"\"\"According Pythagorean theorem,\n",
        "Hypotenuse (Side BC) = root (Side AB)^2 + (Side AC)^2\n",
        "Given Data:\n",
        "           Side AB = {AB} cm,\n",
        "           Side AC = {AC} cm,\n",
        "           So,\n",
        "           Hypotenuse (BC) = {BC} cm\"\"\")\n",
        "main()"
      ]
    }
  ]
}