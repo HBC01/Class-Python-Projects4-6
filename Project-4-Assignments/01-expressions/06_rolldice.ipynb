{
  "nbformat": 4,
  "nbformat_minor": 0,
  "metadata": {
    "colab": {
      "provenance": [],
      "authorship_tag": "ABX9TyODpbB4zIuvSs1LZUZjQ3X5",
      "include_colab_link": true
    },
    "kernelspec": {
      "name": "python3",
      "display_name": "Python 3"
    },
    "language_info": {
      "name": "python"
    }
  },
  "cells": [
    {
      "cell_type": "markdown",
      "metadata": {
        "id": "view-in-github",
        "colab_type": "text"
      },
      "source": [
        "<a href=\"https://colab.research.google.com/github/HBC01/01_expressions/blob/main/06_rolldice.ipynb\" target=\"_parent\"><img src=\"https://colab.research.google.com/assets/colab-badge.svg\" alt=\"Open In Colab\"/></a>"
      ]
    },
    {
      "cell_type": "markdown",
      "source": [
        "#Problem Statement\n",
        "Simulate rolling two dice, and prints results of each roll as well as the total."
      ],
      "metadata": {
        "id": "ntZtVoorIRgp"
      }
    },
    {
      "cell_type": "code",
      "execution_count": null,
      "metadata": {
        "colab": {
          "base_uri": "https://localhost:8080/"
        },
        "id": "1aZbT5LmIIjV",
        "outputId": "d7b0336f-c9cc-4cd3-f33a-abc0a243e87b"
      },
      "outputs": [
        {
          "output_type": "stream",
          "name": "stdout",
          "text": [
            "Dice have = 6 Sides each.\n",
            "dice1 = 3\n",
            "dice2 = 1\n",
            "Total Sum of Two Dices = 4\n"
          ]
        }
      ],
      "source": [
        "dice = 6\n",
        "import random\n",
        "def main():\n",
        "   dice1 = random.randint(1,dice)\n",
        "   dice2 = random.randint(1,dice)\n",
        "   total = dice1 + dice2\n",
        "   print(\"Dice have = \" + str(dice) + \" Sides each.\")\n",
        "   print(\"dice1 = \" + str(dice1))\n",
        "   print(\"dice2 = \" + str(dice2))\n",
        "   print(\"Total Sum of Two Dices = \" + str(total))\n",
        "\n",
        "\n",
        "\n",
        "main()"
      ]
    }
  ]
}