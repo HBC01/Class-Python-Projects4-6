{
  "nbformat": 4,
  "nbformat_minor": 0,
  "metadata": {
    "colab": {
      "provenance": [],
      "authorship_tag": "ABX9TyPxYuB8af4wRXmrtNHs3c6V",
      "include_colab_link": true
    },
    "kernelspec": {
      "name": "python3",
      "display_name": "Python 3"
    },
    "language_info": {
      "name": "python"
    }
  },
  "cells": [
    {
      "cell_type": "markdown",
      "metadata": {
        "id": "view-in-github",
        "colab_type": "text"
      },
      "source": [
        "<a href=\"https://colab.research.google.com/github/HBC01/01_expressions/blob/main/05_remainder_division.ipynb\" target=\"_parent\"><img src=\"https://colab.research.google.com/assets/colab-badge.svg\" alt=\"Open In Colab\"/></a>"
      ]
    },
    {
      "cell_type": "markdown",
      "source": [
        "#Problem Statement\n",
        "Ask the user for two numbers, one at a time, and then print the result of dividing the first number by the second and also the remainder of the division.\n",
        "\n",
        "Here's a sample run of the program (user input is in bold italics):\n",
        "\n",
        "Please enter an integer to be divided: 5\n",
        "\n",
        "Please enter an integer to divide by: 3\n",
        "\n",
        "The result of this division is 1 with a remainder of 2"
      ],
      "metadata": {
        "id": "o1HuNQOG562K"
      }
    },
    {
      "cell_type": "code",
      "source": [
        "def main():\n",
        "    dividing_num =int(input(\"Please enter an integer to be divided: \"))\n",
        "    divisor =int(input(\"Please enter an integer to divide by: \"))\n",
        "    quotient = dividing_num // divisor\n",
        "    reminder = dividing_num % divisor\n",
        "    print (f\"\"\"Data :\n",
        "         Dividing number = {dividing_num}\n",
        "         Divisor = {divisor}\n",
        "\n",
        "         The Result of this division\n",
        "         is {quotient},\n",
        "         with a reminder of {reminder}\n",
        " \"\"\")\n",
        "\n",
        "main()"
      ],
      "metadata": {
        "colab": {
          "base_uri": "https://localhost:8080/"
        },
        "id": "D7EmYds5581p",
        "outputId": "def4e38c-08d3-455f-c1a1-160191654ddd"
      },
      "execution_count": null,
      "outputs": [
        {
          "output_type": "stream",
          "name": "stdout",
          "text": [
            "Please enter an integer to be divided: 50\n",
            "Please enter an integer to divide by: 12\n",
            "Data :\n",
            "         Dividing number = 50\n",
            "         Divisor = 12\n",
            "         \n",
            "         The Result of this division\n",
            "         is 4,\n",
            "         with a reminder of 2\n",
            " \n"
          ]
        }
      ]
    }
  ]
}