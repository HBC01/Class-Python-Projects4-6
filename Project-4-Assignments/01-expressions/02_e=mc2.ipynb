{
  "nbformat": 4,
  "nbformat_minor": 0,
  "metadata": {
    "colab": {
      "provenance": [],
      "authorship_tag": "ABX9TyPHGGBslyW9SDd8YcLBF6/X",
      "include_colab_link": true
    },
    "kernelspec": {
      "name": "python3",
      "display_name": "Python 3"
    },
    "language_info": {
      "name": "python"
    }
  },
  "cells": [
    {
      "cell_type": "markdown",
      "metadata": {
        "id": "view-in-github",
        "colab_type": "text"
      },
      "source": [
        "<a href=\"https://colab.research.google.com/github/HBC01/01_expressions/blob/main/02_e%3Dmc2.ipynb\" target=\"_parent\"><img src=\"https://colab.research.google.com/assets/colab-badge.svg\" alt=\"Open In Colab\"/></a>"
      ]
    },
    {
      "cell_type": "markdown",
      "source": [
        "#Problem Statement\n",
        "Write a program that continually reads in mass from the user and then outputs the equivalent energy using Einstein's mass-energy equivalence formula (E stands for energy, m stands for mass, and C is the speed of light:\n",
        "\n",
        "E = m * c**2\n",
        "\n",
        "Almost 100 years ago, Albert Einstein famously discovered that mass and energy are interchangeable and are related by the above equation. You should ask the user for mass (m) in kilograms and use a constant value for the speed of light -- C = 299792458 m/s.\n",
        "\n",
        "Here's a sample run of the program (user input is in bold italics):\n",
        "\n",
        "Enter kilos of mass: 100\n",
        "\n",
        "e = m * C^2...\n",
        "\n",
        "m = 100.0 kg\n",
        "\n",
        "C = 299792458 m/s\n",
        "\n",
        "8.987551787368176e+18 joules of energy!"
      ],
      "metadata": {
        "id": "OF_Rnx87NdDq"
      }
    },
    {
      "cell_type": "code",
      "execution_count": null,
      "metadata": {
        "colab": {
          "base_uri": "https://localhost:8080/"
        },
        "id": "nL_fhgofNBmm",
        "outputId": "156fe743-41c3-4f1f-f351-6d835d792719"
      },
      "outputs": [
        {
          "output_type": "stream",
          "name": "stdout",
          "text": [
            "This program calculates Energy,\n",
            "by Using Einstein theory..\n",
            "Write Mass in Kg : 120\n",
            "Energy = 1.0785062144841812e+19 joules\n",
            "Given Data:\n",
            "            Mass = 120.0 \n",
            "            C = 299792458 m/s\n",
            "            E = m*C^2\n",
            "            \n"
          ]
        }
      ],
      "source": [
        "print(\"\"\"This program calculates Energy,\n",
        "by Using Einstein theory..\"\"\")\n",
        "\n",
        "def main():\n",
        "\n",
        "    C = 299792458 # Speed of Light\n",
        "    mass =float(input (\"Write Mass in Kg : \"))\n",
        "    E = mass*C**2\n",
        "    print(\"Energy = \"+ str(E)+ \" joules\" )\n",
        "    print(f\"\"\"Given Data:\n",
        "            Mass = {mass}\n",
        "            C = 299792458 m/s\n",
        "            E = m*C^2\n",
        "            \"\"\")\n",
        "\n",
        "main()"
      ]
    }
  ]
}