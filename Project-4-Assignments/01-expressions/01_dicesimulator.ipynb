{
  "nbformat": 4,
  "nbformat_minor": 0,
  "metadata": {
    "colab": {
      "provenance": [],
      "authorship_tag": "ABX9TyMojmZy1B8oOh7lJpjjlUMT",
      "include_colab_link": true
    },
    "kernelspec": {
      "name": "python3",
      "display_name": "Python 3"
    },
    "language_info": {
      "name": "python"
    }
  },
  "cells": [
    {
      "cell_type": "markdown",
      "metadata": {
        "id": "view-in-github",
        "colab_type": "text"
      },
      "source": [
        "<a href=\"https://colab.research.google.com/github/HBC01/01_expressions/blob/main/01_dicesimulator.ipynb\" target=\"_parent\"><img src=\"https://colab.research.google.com/assets/colab-badge.svg\" alt=\"Open In Colab\"/></a>"
      ]
    },
    {
      "cell_type": "markdown",
      "source": [
        "#Problem Statement\n",
        "Simulate rolling two dice, three times. Prints the results of each die roll. This program is used to show how variable scope works."
      ],
      "metadata": {
        "id": "oHUM47G-7OQx"
      }
    },
    {
      "cell_type": "code",
      "execution_count": null,
      "metadata": {
        "colab": {
          "base_uri": "https://localhost:8080/"
        },
        "id": "5Rz412UC7FUJ",
        "outputId": "a3baa7fa-0c89-497a-ff27-2c4b536d82bd"
      },
      "outputs": [
        {
          "output_type": "stream",
          "name": "stdout",
          "text": [
            "Dice1 stars as : 10\n",
            "Sum of two Dices: 7\n",
            "Sum of two Dices: 11\n",
            "Sum of two Dices: 3\n",
            "Dice is : 10\n"
          ]
        }
      ],
      "source": [
        "import random\n",
        "\n",
        "dice_sides = 6\n",
        "\n",
        "\n",
        "def rolling_dice():\n",
        "    dice1 = random.randint(1,dice_sides)\n",
        "    dice2 = random.randint(1,dice_sides)\n",
        "    total = dice1 + dice2\n",
        "    print(\"Sum of two Dices: \" +str(total))\n",
        "\n",
        "\n",
        "def main():\n",
        "    dice = 10\n",
        "    print(\"Dice1 stars as : \" + str(dice))\n",
        "    rolling_dice()\n",
        "    rolling_dice()\n",
        "    rolling_dice()\n",
        "    print(\"Dice is : \"+str(dice))\n",
        "if __name__ == '__main__':\n",
        "    main()"
      ]
    }
  ]
}