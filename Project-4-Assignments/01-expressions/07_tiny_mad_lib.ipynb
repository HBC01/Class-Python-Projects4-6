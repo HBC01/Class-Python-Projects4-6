{
  "nbformat": 4,
  "nbformat_minor": 0,
  "metadata": {
    "colab": {
      "provenance": [],
      "authorship_tag": "ABX9TyPCnS8oHNC2ra3yQFv5hhFz",
      "include_colab_link": true
    },
    "kernelspec": {
      "name": "python3",
      "display_name": "Python 3"
    },
    "language_info": {
      "name": "python"
    }
  },
  "cells": [
    {
      "cell_type": "markdown",
      "metadata": {
        "id": "view-in-github",
        "colab_type": "text"
      },
      "source": [
        "<a href=\"https://colab.research.google.com/github/HBC01/01_expressions/blob/main/07_tiny_mad_lib.ipynb\" target=\"_parent\"><img src=\"https://colab.research.google.com/assets/colab-badge.svg\" alt=\"Open In Colab\"/></a>"
      ]
    },
    {
      "cell_type": "markdown",
      "source": [
        "#Problem Statement\n",
        "Write a program which prompts the user for an adjective, then a noun, then a verb, and then prints a fun sentence with those words!\n",
        "\n",
        "Mad Libs is a word game where players are prompted for one word at a time, and the words are eventually filled into the blanks of a word template to make an entertaining story! We've provided you with the beginning of a sentence (the SENTENCE_START constant) which will end in a user-inputted adjective, noun, and then verb.\n",
        "\n",
        "Here's a sample run (user input is in bold italics):\n",
        "\n",
        "Please type an adjective and press enter. tiny\n",
        "\n",
        "Please type a noun and press enter. plant\n",
        "\n",
        "Please type a verb and press enter. fly\n",
        "\n",
        "Code in Place is fun. I learned to program and used Python to make my tiny plant fly!"
      ],
      "metadata": {
        "id": "bBSIVLlirHyP"
      }
    },
    {
      "cell_type": "code",
      "execution_count": null,
      "metadata": {
        "colab": {
          "base_uri": "https://localhost:8080/"
        },
        "id": "Kz-nlyTVrBdo",
        "outputId": "cabd5751-f2c7-49cd-dd68-74fecc0f9978"
      },
      "outputs": [
        {
          "output_type": "stream",
          "name": "stdout",
          "text": [
            "Please type an adjective and press enter. Bold\n",
            "Please type a noun and press enter. Boy\n",
            "Please type a verb and press enter. Runs\n",
            "Code in Place is fun.\n",
            "  I learned to program,\n",
            "  used Python to make sentence.\n",
            " Bold Boy Runs!\n"
          ]
        }
      ],
      "source": [
        "def main():\n",
        "    adj =input(\"Please type an adjective and press enter. \")\n",
        "    noun=input(\"Please type a noun and press enter. \")\n",
        "    verb =input(\"Please type a verb and press enter. \")\n",
        "    print(f\"\"\"Code in Place is fun.\n",
        "  I learned to program,\n",
        "  used Python to make sentence.\n",
        " {adj} {noun} {verb}!\"\"\")\n",
        "main()"
      ]
    }
  ]
}